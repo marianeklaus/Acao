{
 "cells": [
  {
   "cell_type": "markdown",
   "id": "e725cf99-e97d-4fa9-97ab-7a9dbeb2bd17",
   "metadata": {},
   "source": [
    "# Módulo de Entrada "
   ]
  },
  {
   "cell_type": "code",
   "execution_count": 11,
   "id": "46d94ca3-9fa9-43ab-9c93-e3f444b22e28",
   "metadata": {
    "tags": []
   },
   "outputs": [
    {
     "name": "stdin",
     "output_type": "stream",
     "text": [
      "Qual o nome da empresa? casa\n"
     ]
    }
   ],
   "source": [
    "emissor = input(\"Qual o nome da empresa?\")"
   ]
  },
  {
   "cell_type": "code",
   "execution_count": 2,
   "id": "1a3fdd30-31cb-4e43-8264-aa156734dc38",
   "metadata": {
    "tags": []
   },
   "outputs": [
    {
     "name": "stdout",
     "output_type": "stream",
     "text": [
      "Itau Unibanco Holding S.A\n"
     ]
    }
   ],
   "source": [
    "print(emissor)"
   ]
  },
  {
   "cell_type": "code",
   "execution_count": 22,
   "id": "07e2f416-ff28-4718-9a66-ddc2a2561ab3",
   "metadata": {
    "tags": []
   },
   "outputs": [
    {
     "name": "stdin",
     "output_type": "stream",
     "text": [
      "Qual o nome da empresa? d\n"
     ]
    },
    {
     "name": "stdout",
     "output_type": "stream",
     "text": [
      "d\n"
     ]
    }
   ],
   "source": [
    "def leitora_emissor():\n",
    "    \"\"\"Lê o nome da empresa digitado pelo usuário\"\"\"\n",
    "    emissor = input(\"Qual o nome da empresa?\")\n",
    "    return emissor\n",
    "\n",
    "emissor = leitora_emissor()\n",
    "print(emissor)"
   ]
  },
  {
   "cell_type": "code",
   "execution_count": 15,
   "id": "1839404b-ce56-484d-b565-f212687fc278",
   "metadata": {
    "tags": []
   },
   "outputs": [
    {
     "data": {
      "text/plain": [
       "'1'"
      ]
     },
     "execution_count": 15,
     "metadata": {},
     "output_type": "execute_result"
    }
   ],
   "source": [
    "emissor\n"
   ]
  },
  {
   "cell_type": "code",
   "execution_count": 17,
   "id": "e4c71a04-dbbf-4bd9-8d27-61341fa34569",
   "metadata": {
    "tags": []
   },
   "outputs": [
    {
     "name": "stdin",
     "output_type": "stream",
     "text": [
      "Qual o código na B3? teste\n"
     ]
    }
   ],
   "source": [
    "codigo = input(\"Qual o código na B3?\")\n"
   ]
  },
  {
   "cell_type": "code",
   "execution_count": 19,
   "id": "70944e76-afb5-4cc7-a84b-877fb941d009",
   "metadata": {
    "tags": []
   },
   "outputs": [
    {
     "name": "stdout",
     "output_type": "stream",
     "text": [
      "teste\n"
     ]
    }
   ],
   "source": [
    "print(codigo)"
   ]
  },
  {
   "cell_type": "code",
   "execution_count": 20,
   "id": "9afd9d4b-dbb3-4837-a19c-9ced36d4ebab",
   "metadata": {
    "tags": []
   },
   "outputs": [
    {
     "name": "stdin",
     "output_type": "stream",
     "text": [
      "Qual o código na B3? j\n"
     ]
    },
    {
     "name": "stdout",
     "output_type": "stream",
     "text": [
      "j\n"
     ]
    }
   ],
   "source": [
    "def leitora_codigo():\n",
    "    \"\"\"Lê o código da empresa digitado pelo usuário\"\"\"\n",
    "    codigo = input(\"Qual o código na B3?\")\n",
    "    return codigo\n",
    "\n",
    "codigo = leitora_codigo()\n",
    "print(codigo)"
   ]
  },
  {
   "cell_type": "code",
   "execution_count": 25,
   "id": "187143e7-ccbc-44b3-8517-fb7b815074c8",
   "metadata": {
    "tags": []
   },
   "outputs": [
    {
     "name": "stdin",
     "output_type": "stream",
     "text": [
      "Qual o nome da empresa? 1\n",
      "Qual o código na B3? 1\n"
     ]
    },
    {
     "name": "stdout",
     "output_type": "stream",
     "text": [
      "['1', '1']\n"
     ]
    }
   ],
   "source": [
    "def leitora():\n",
    "    emissor = leitora_emissor()\n",
    "    codigo = leitora_codigo()\n",
    "    return [emissor, codigo]\n",
    "\n",
    "empresa = leitora()\n",
    "print(empresa)"
   ]
  },
  {
   "cell_type": "markdown",
   "id": "b32fe32b-bd9f-441d-bee6-1932d2cf214b",
   "metadata": {},
   "source": [
    "# Funcionalidade de saída de dados\n"
   ]
  },
  {
   "cell_type": "code",
   "execution_count": 26,
   "id": "e6bfe1bf-c0a8-4b63-a1ac-38aa369d2e21",
   "metadata": {
    "tags": []
   },
   "outputs": [
    {
     "name": "stdout",
     "output_type": "stream",
     "text": [
      "['1', '1']\n"
     ]
    }
   ],
   "source": [
    "print(empresa)"
   ]
  },
  {
   "cell_type": "code",
   "execution_count": 28,
   "id": "1a1587bd-1a20-4283-9458-865a618b0d75",
   "metadata": {
    "tags": []
   },
   "outputs": [],
   "source": [
    "def impressora(resultado: str):\n",
    "    \"\"\"Imprime o resultado\"\"\"\n",
    "    print(f\"A ação criada foi {resultado}.)"
   ]
  },
  {
   "cell_type": "code",
   "execution_count": null,
   "id": "eb6cdeec-0572-4d49-9184-45d6f5947762",
   "metadata": {},
   "outputs": [],
   "source": []
  }
 ],
 "metadata": {
  "kernelspec": {
   "display_name": "Python 3 (ipykernel)",
   "language": "python",
   "name": "python3"
  },
  "language_info": {
   "codemirror_mode": {
    "name": "ipython",
    "version": 3
   },
   "file_extension": ".py",
   "mimetype": "text/x-python",
   "name": "python",
   "nbconvert_exporter": "python",
   "pygments_lexer": "ipython3",
   "version": "3.11.5"
  }
 },
 "nbformat": 4,
 "nbformat_minor": 5
}
