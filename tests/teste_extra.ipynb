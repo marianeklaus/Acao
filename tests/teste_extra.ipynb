{
 "cells": [
  {
   "cell_type": "markdown",
   "id": "89fc4547-ec10-401a-a2bc-995aa74d28dd",
   "metadata": {},
   "source": [
    "# Exercicio\n",
    "\n",
    "Crie objetos da classe Televisão com características dadas por\n",
    "- canal\n",
    "- dono\n",
    "\n",
    "E funcionalidades dadas por\n",
    "\n",
    "- sobe canal\n",
    "- desce canal\n",
    "\n",
    "O canal inicial é sempre igual a 2."
   ]
  },
  {
   "cell_type": "code",
   "execution_count": 6,
   "id": "42bf291c-0dcf-41e7-a176-2b2862af73c5",
   "metadata": {
    "tags": []
   },
   "outputs": [],
   "source": [
    "class Televisao:\n",
    "    def __init__(self, canal, dono):\n",
    "        self.canal = canal\n",
    "        self.dono = dono\n",
    "    def sobe_canal(self):\n",
    "        self.canal+=1\n",
    "    def desce_canal(self):\n",
    "        self.canal-=1"
   ]
  },
  {
   "cell_type": "code",
   "execution_count": 7,
   "id": "56da631e-d655-4e28-91f5-d6d6a0f7a212",
   "metadata": {
    "tags": []
   },
   "outputs": [
    {
     "name": "stdout",
     "output_type": "stream",
     "text": [
      "<__main__.Televisao object at 0x000001B3B9D6CDD0>\n"
     ]
    }
   ],
   "source": [
    "globo = Televisao(12, \"Globo\")\n",
    "print(globo)"
   ]
  },
  {
   "cell_type": "code",
   "execution_count": 9,
   "id": "d21fd3da-6a90-4f11-9a58-3d00f4607368",
   "metadata": {
    "tags": []
   },
   "outputs": [
    {
     "name": "stdout",
     "output_type": "stream",
     "text": [
      "13\n"
     ]
    }
   ],
   "source": [
    "globo.sobe_canal()\n",
    "print(globo.canal)\n"
   ]
  }
 ],
 "metadata": {
  "kernelspec": {
   "display_name": "Python 3 (ipykernel)",
   "language": "python",
   "name": "python3"
  },
  "language_info": {
   "codemirror_mode": {
    "name": "ipython",
    "version": 3
   },
   "file_extension": ".py",
   "mimetype": "text/x-python",
   "name": "python",
   "nbconvert_exporter": "python",
   "pygments_lexer": "ipython3",
   "version": "3.11.5"
  }
 },
 "nbformat": 4,
 "nbformat_minor": 5
}
