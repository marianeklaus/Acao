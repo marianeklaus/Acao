{
 "cells": [
  {
   "cell_type": "markdown",
   "id": "c70c5a32-80d2-4042-a4d2-792b5ce4570a",
   "metadata": {},
   "source": [
    "# Módulo de instanciação de objetos da classe Ação"
   ]
  },
  {
   "cell_type": "code",
   "execution_count": 1,
   "id": "c3276910-75dc-44a3-82f4-0732e7b5a400",
   "metadata": {
    "tags": []
   },
   "outputs": [],
   "source": [
    "# Definindo classe Ação\n",
    "\n",
    "class Acao:\n",
    "    def __init__(self, emissor, codigo_b3):\n",
    "        self.emissor = emissor\n",
    "        self.codigo_b3 = codigo_b3\n"
   ]
  },
  {
   "cell_type": "code",
   "execution_count": 2,
   "id": "9201edf5-8fb5-4a6a-8095-1b93cc5e306a",
   "metadata": {
    "tags": []
   },
   "outputs": [],
   "source": [
    "# Teste da classe ação, instanciando o objeto BBDC3\n",
    "\n",
    "bbdc3 = Acao(\"Bradesco\", \"BBDC3\")"
   ]
  },
  {
   "cell_type": "code",
   "execution_count": 3,
   "id": "46f513af-2b6c-4b14-a856-66877c861497",
   "metadata": {
    "tags": []
   },
   "outputs": [
    {
     "name": "stdout",
     "output_type": "stream",
     "text": [
      "5\n"
     ]
    }
   ],
   "source": [
    "c = 5\n",
    "print(c)\n"
   ]
  },
  {
   "cell_type": "code",
   "execution_count": 4,
   "id": "b1ae4db4-43dc-47a3-b5bf-4abe2db850ec",
   "metadata": {
    "tags": []
   },
   "outputs": [
    {
     "name": "stdout",
     "output_type": "stream",
     "text": [
      "<__main__.Acao object at 0x000001E7E9C13F10>\n"
     ]
    }
   ],
   "source": [
    "print(bbdc3)"
   ]
  },
  {
   "cell_type": "code",
   "execution_count": 20,
   "id": "ef3e28bd-ad24-47b4-8e69-885288854c87",
   "metadata": {
    "tags": []
   },
   "outputs": [
    {
     "name": "stdout",
     "output_type": "stream",
     "text": [
      "Este é um objeto da classe Ação e o emissor da ação é \n",
      "        Bradesco e o código é BBDC3\n"
     ]
    }
   ],
   "source": [
    "# Evoluindo a classe\n",
    "class Acao:\n",
    "    def __init__(self, emissor, codigo_b3):\n",
    "        self.emissor = emissor\n",
    "        self.codigo_b3 = codigo_b3\n",
    "    def __str__(self):\n",
    "        return f\"\"\"Este é um objeto da classe Ação e o emissor da ação é \n",
    "        {self.emissor} e o código é {self.codigo_b3}\"\"\"\n",
    "    def negociar(self):\n",
    "        print(\"Médoto negociar () Não implementado\")\n",
    "        NotImplemented\n",
    "print(bbdc3)\n"
   ]
  },
  {
   "cell_type": "code",
   "execution_count": 21,
   "id": "1dddf930-9b4d-4450-a5ea-1a39514f4138",
   "metadata": {
    "tags": []
   },
   "outputs": [
    {
     "name": "stdout",
     "output_type": "stream",
     "text": [
      "Este é um objeto da classe Ação e o emissor da ação é \n",
      "        Bradesco e o código é BBDC3\n",
      "Médoto negociar () Não implementado\n"
     ]
    }
   ],
   "source": [
    "bbdc3 = Acao(\"Bradesco\", \"BBDC3\")\n",
    "print(bbdc3)\n",
    "bbdc3.negociar()"
   ]
  },
  {
   "cell_type": "code",
   "execution_count": null,
   "id": "bb87ed1f-67f8-498d-9b58-b357d80e5114",
   "metadata": {},
   "outputs": [],
   "source": []
  }
 ],
 "metadata": {
  "kernelspec": {
   "display_name": "Python 3 (ipykernel)",
   "language": "python",
   "name": "python3"
  },
  "language_info": {
   "codemirror_mode": {
    "name": "ipython",
    "version": 3
   },
   "file_extension": ".py",
   "mimetype": "text/x-python",
   "name": "python",
   "nbconvert_exporter": "python",
   "pygments_lexer": "ipython3",
   "version": "3.11.5"
  }
 },
 "nbformat": 4,
 "nbformat_minor": 5
}
